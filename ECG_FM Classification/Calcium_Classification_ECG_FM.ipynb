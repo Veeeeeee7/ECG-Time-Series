{
 "cells": [
  {
   "cell_type": "code",
   "execution_count": 1,
   "metadata": {},
   "outputs": [],
   "source": [
    "import numpy as np\n",
    "import pandas as pd\n",
    "import os\n",
    "from preprocessing import create_records, create_labels, create_mat_files, create_meta, create_meta_split, create_segmented_split, prepare_clf_labels, prepare_manifest, prepare_cmsc_manifest, make_inference\n",
    "\n",
    "save_path = '/Users/victorli/Documents/GitHub/ECG-Time-Series/ECG_FM Classification/'\n",
    "raw_path = '/Volumes/SanDisk SSD/physionet.org/files/mimic-iv-ecg/1.0/'\n",
    "dataset = 'Calcium50893'"
   ]
  },
  {
   "cell_type": "code",
   "execution_count": 3,
   "metadata": {},
   "outputs": [],
   "source": [
    "records = create_records(raw_path, save_path, dataset)"
   ]
  },
  {
   "cell_type": "code",
   "execution_count": 4,
   "metadata": {},
   "outputs": [],
   "source": [
    "labels = create_labels(raw_path, save_path, dataset)"
   ]
  },
  {
   "cell_type": "code",
   "execution_count": 2,
   "metadata": {},
   "outputs": [],
   "source": [
    "mat_files = create_mat_files(save_path, dataset)"
   ]
  },
  {
   "cell_type": "code",
   "execution_count": 5,
   "metadata": {},
   "outputs": [],
   "source": [
    "metadata = create_meta(raw_path, save_path, dataset)"
   ]
  },
  {
   "cell_type": "code",
   "execution_count": 6,
   "metadata": {},
   "outputs": [],
   "source": [
    "metadata_split = create_meta_split(save_path, dataset)"
   ]
  },
  {
   "cell_type": "code",
   "execution_count": 7,
   "metadata": {},
   "outputs": [],
   "source": [
    "segmented_split = create_segmented_split(save_path, dataset)"
   ]
  },
  {
   "cell_type": "code",
   "execution_count": 3,
   "metadata": {},
   "outputs": [
    {
     "name": "stdout",
     "output_type": "stream",
     "text": [
      "python3 fairseq-signals/scripts/prepare_clf_labels.py \\\n",
      "        --output_dir '/Users/victorli/Documents/GitHub/ECG-Time-Series/ECG_FM Classification/Calcium50893/output/ \\\n",
      "        --labels '/Users/victorli/Documents/GitHub/ECG-Time-Series/ECG_FM Classification/Calcium50893/labels.csv' \\\n",
      "        --meta_splits '/Users/victorli/Documents/GitHub/ECG-Time-Series/ECG_FM Classification/Calcium50893/meta_split.csv' \\\n",
      "        --segmented_splits '/Users/victorli/Documents/GitHub/ECG-Time-Series/ECG_FM Classification/Calcium50893/segmented_split.csv'\n"
     ]
    }
   ],
   "source": [
    "print(prepare_clf_labels(save_path, dataset))"
   ]
  },
  {
   "cell_type": "code",
   "execution_count": 2,
   "metadata": {},
   "outputs": [
    {
     "name": "stdout",
     "output_type": "stream",
     "text": [
      "python3 fairseq-signals/scripts/manifests.py \\\n",
      "        --split_file_paths '/Users/victorli/Documents/GitHub/ECG-Time-Series/ECG_FM Classification/Calcium50893/segmented_split.csv' \\\n",
      "        --save_dir '/Users/victorli/Documents/GitHub/ECG-Time-Series/ECG_FM Classification/Calcium50893/manifest/'\n"
     ]
    }
   ],
   "source": [
    "print(prepare_manifest(save_path, dataset))"
   ]
  },
  {
   "cell_type": "code",
   "execution_count": 2,
   "metadata": {},
   "outputs": [
    {
     "name": "stdout",
     "output_type": "stream",
     "text": [
      "python3 fairseq-signals/fairseq_signals/data/ecg/preprocess/convert_to_cmsc_manifest.py \\\n",
      "    '/Users/victorli/Documents/GitHub/ECG-Time-Series/ECG_FM Classification/Calcium50893/manifest/' \\\n",
      "    --dest '/Users/victorli/Documents/GitHub/ECG-Time-Series/ECG_FM Classification/Calcium50893/manifest/'\n"
     ]
    }
   ],
   "source": [
    "print(prepare_cmsc_manifest(save_path, dataset))"
   ]
  },
  {
   "cell_type": "code",
   "execution_count": 3,
   "metadata": {},
   "outputs": [
    {
     "name": "stderr",
     "output_type": "stream",
     "text": [
      "/Users/victorli/Documents/GitHub/ECG-Time-Series/.venv/lib/python3.9/site-packages/urllib3/__init__.py:35: NotOpenSSLWarning: urllib3 v2 only supports OpenSSL 1.1.1+, currently the 'ssl' module is compiled with 'LibreSSL 2.8.3'. See: https://github.com/urllib3/urllib3/issues/3020\n",
      "  warnings.warn(\n",
      "/Users/victorli/Documents/GitHub/ECG-Time-Series/.venv/lib/python3.9/site-packages/tqdm/auto.py:21: TqdmWarning: IProgress not found. Please update jupyter and ipywidgets. See https://ipywidgets.readthedocs.io/en/stable/user_install.html\n",
      "  from .autonotebook import tqdm as notebook_tqdm\n",
      "/Users/victorli/Documents/GitHub/ECG-Time-Series/fairseq-signals/fairseq_signals/utils/checkpoint_utils.py:268: FutureWarning: You are using `torch.load` with `weights_only=False` (the current default value), which uses the default pickle module implicitly. It is possible to construct malicious pickle data which will execute arbitrary code during unpickling (See https://github.com/pytorch/pytorch/blob/main/SECURITY.md#untrusted-models for more details). In a future release, the default value for `weights_only` will be flipped to `True`. This limits the functions that could be executed during unpickling. Arbitrary objects will no longer be allowed to be loaded via this mode unless they are explicitly allowlisted by the user via `torch.serialization.add_safe_globals`. We recommend you start setting `weights_only=True` for any use case where you don't have full control of the loaded file. Please open an issue on GitHub for any issues related to this experimental feature.\n",
      "  state = torch.load(f, map_location = torch.device(\"cpu\"))\n",
      "/Users/victorli/Documents/GitHub/ECG-Time-Series/.venv/lib/python3.9/site-packages/torch/nn/utils/weight_norm.py:143: FutureWarning: `torch.nn.utils.weight_norm` is deprecated in favor of `torch.nn.utils.parametrizations.weight_norm`.\n",
      "  WeightNorm.apply(module, name, dim)\n"
     ]
    },
    {
     "data": {
      "text/plain": [
       "Wav2Vec2CMSCModel(\n",
       "  (dropout_input): Dropout(p=0.1, inplace=False)\n",
       "  (dropout_features): Dropout(p=0.1, inplace=False)\n",
       "  (encoder): TransformerEncoder(\n",
       "    (layers): ModuleList(\n",
       "      (0-11): 12 x TransformerEncoderLayer(\n",
       "        (self_attn): MultiHeadAttention(\n",
       "          (dropout): Dropout()\n",
       "          (k_proj): Linear(in_features=768, out_features=768, bias=True)\n",
       "          (v_proj): Linear(in_features=768, out_features=768, bias=True)\n",
       "          (q_proj): Linear(in_features=768, out_features=768, bias=True)\n",
       "          (out_proj): Linear(in_features=768, out_features=768, bias=True)\n",
       "        )\n",
       "        (dropout1): Dropout(p=0.1, inplace=False)\n",
       "        (dropout2): Dropout(p=0.0, inplace=False)\n",
       "        (dropout3): Dropout(p=0.1, inplace=False)\n",
       "        (self_attn_layer_norm): LayerNorm((768,), eps=1e-05, elementwise_affine=True)\n",
       "        (fc1): Linear(in_features=768, out_features=3072, bias=True)\n",
       "        (fc2): Linear(in_features=3072, out_features=768, bias=True)\n",
       "        (final_layer_norm): LayerNorm((768,), eps=1e-05, elementwise_affine=True)\n",
       "      )\n",
       "    )\n",
       "    (layer_norm): LayerNorm((768,), eps=1e-05, elementwise_affine=True)\n",
       "  )\n",
       "  (feature_extractor): ConvFeatureExtraction(\n",
       "    (conv_layers): ModuleList(\n",
       "      (0): Sequential(\n",
       "        (0): Conv1d(12, 256, kernel_size=(2,), stride=(2,), bias=False)\n",
       "        (1): Dropout(p=0.0, inplace=False)\n",
       "        (2): Fp32GroupNorm(256, 256, eps=1e-05, affine=True)\n",
       "        (3): GELU(approximate='none')\n",
       "      )\n",
       "      (1-3): 3 x Sequential(\n",
       "        (0): Conv1d(256, 256, kernel_size=(2,), stride=(2,), bias=False)\n",
       "        (1): Dropout(p=0.0, inplace=False)\n",
       "        (2): GELU(approximate='none')\n",
       "      )\n",
       "    )\n",
       "  )\n",
       "  (post_extract_proj): Linear(in_features=256, out_features=768, bias=True)\n",
       "  (conv_pos): ConvPositionalEncoding(\n",
       "    (pos_conv): Sequential(\n",
       "      (0): Conv1d(768, 768, kernel_size=(128,), stride=(1,), padding=(64,), groups=16)\n",
       "      (1): SamePad()\n",
       "      (2): GELU(approximate='none')\n",
       "    )\n",
       "  )\n",
       "  (layer_norm): LayerNorm((256,), eps=1e-05, elementwise_affine=True)\n",
       "  (quantizer): GumbelVectorQuantizer(\n",
       "    (weight_proj): Linear(in_features=256, out_features=640, bias=True)\n",
       "  )\n",
       "  (project_q): Linear(in_features=256, out_features=256, bias=True)\n",
       "  (final_proj): Linear(in_features=768, out_features=256, bias=True)\n",
       ")"
      ]
     },
     "execution_count": 3,
     "metadata": {},
     "output_type": "execute_result"
    }
   ],
   "source": [
    "from fairseq_signals.models import build_model_from_checkpoint\n",
    "\n",
    "model_pretrained = build_model_from_checkpoint(\n",
    "    checkpoint_path=os.path.join(raw_path, 'ckpts/mimic_iv_ecg_physionet_pretrained.pt')\n",
    ")\n",
    "model_pretrained"
   ]
  },
  {
   "cell_type": "code",
   "execution_count": 2,
   "metadata": {},
   "outputs": [
    {
     "name": "stdout",
     "output_type": "stream",
     "text": [
      "fairseq-hydra-inference \\\n",
      "    task.data=\"/Users/victorli/Documents/GitHub/ECG-Time-Series/ECG_FM Classification/Calcium50893/manifest/cmsc\" \\\n",
      "    common_eval.path=\"/Volumes/SanDisk SSD/physionet.org/files/mimic-iv-ecg/1.0/ckpts/mimic_iv_ecg_physionet_pretrained.pt\" \\\n",
      "    common_eval.results_path=\"/Users/victorli/Documents/GitHub/ECG-Time-Series/ECG_FM Classification/Calcium50893/outputs\" \\\n",
      "    dataset.valid_subset=\"test\" \\\n",
      "    dataset.batch_size=10 \\\n",
      "    dataset.num_workers=3 \\\n",
      "    dataset.disable_validation=false \\\n",
      "    distributed_training.distributed_world_size=1 \\\n",
      "    distributed_training.find_unused_parameters=True \\\n",
      "    --config-dir \"/Volumes/SanDisk SSD/physionet.org/files/mimic-iv-ecg/1.0/ckpts\" \\\n",
      "    --config-name mimic_iv_ecg_physionet_pretrained\n",
      "    \n"
     ]
    }
   ],
   "source": [
    "print(make_inference(raw_path, save_path, dataset))"
   ]
  },
  {
   "cell_type": "markdown",
   "metadata": {},
   "source": [
    "(.venv) victorli@Victors-MacBook-Pro-280 ECG-Time-Series % fairseq-hydra-inference \\\n",
    "    task.data=\"/Users/victorli/Documents/GitHub/ECG-Time-Series/ECG_FM Classification/Calcium50893/manifest/cmsc\" \\\n",
    "    common_eval.path=\"/Volumes/SanDisk SSD/physionet.org/files/mimic-iv-ecg/1.0/ckpts/mimic_iv_ecg_physionet_pretrained.pt\" \\\n",
    "    common_eval.results_path=\"/Users/victorli/Documents/GitHub/ECG-Time-Series/ECG_FM Classification/Calcium50893/outputs\" \\\n",
    "    dataset.valid_subset=\"test\" \\\n",
    "    dataset.batch_size=10 \\\n",
    "    dataset.num_workers=3 \\\n",
    "    dataset.disable_validation=false \\\n",
    "    distributed_training.distributed_world_size=1 \\\n",
    "    distributed_training.find_unused_parameters=True \\\n",
    "    --config-dir \"/Volumes/SanDisk SSD/physionet.org/files/mimic-iv-ecg/1.0/ckpts\" \\\n",
    "    --config-name mimic_iv_ecg_physionet_pretrained\n",
    "/Users/victorli/Documents/GitHub/ECG-Time-Series/.venv/lib/python3.9/site-packages/urllib3/__init__.py:35: NotOpenSSLWarning: urllib3 v2 only supports OpenSSL 1.1.1+, currently the 'ssl' module is compiled with 'LibreSSL 2.8.3'. See: https://github.com/urllib3/urllib3/issues/3020\n",
    "  warnings.warn(\n",
    "[2025-01-06 19:54:29,440][fairseq_cli.inference][INFO] - loading model from /Volumes/SanDisk SSD/physionet.org/files/mimic-iv-ecg/1.0/ckpts/mimic_iv_ecg_physionet_pretrained.pt\n",
    "/Users/victorli/Documents/GitHub/ECG-Time-Series/fairseq-signals/fairseq_signals/utils/checkpoint_utils.py:268: FutureWarning: You are using `torch.load` with `weights_only=False` (the current default value), which uses the default pickle module implicitly. It is possible to construct malicious pickle data which will execute arbitrary code during unpickling (See https://github.com/pytorch/pytorch/blob/main/SECURITY.md#untrusted-models for more details). In a future release, the default value for `weights_only` will be flipped to `True`. This limits the functions that could be executed during unpickling. Arbitrary objects will no longer be allowed to be loaded via this mode unless they are explicitly allowlisted by the user via `torch.serialization.add_safe_globals`. We recommend you start setting `weights_only=True` for any use case where you don't have full control of the loaded file. Please open an issue on GitHub for any issues related to this experimental feature.\n",
    "  state = torch.load(f, map_location = torch.device(\"cpu\"))\n",
    "/Users/victorli/Documents/GitHub/ECG-Time-Series/.venv/lib/python3.9/site-packages/torch/nn/utils/weight_norm.py:143: FutureWarning: `torch.nn.utils.weight_norm` is deprecated in favor of `torch.nn.utils.parametrizations.weight_norm`.\n",
    "  WeightNorm.apply(module, name, dim)\n",
    "[2025-01-06 19:54:30,439][fairseq_signals.utils.checkpoint_utils][INFO] - Loaded a checkpoint in 1.00s\n",
    "[2025-01-06 19:54:30,440][fairseq_cli.inference][INFO] - num. shared model params: 90,883,072 (num. trained: 90,883,072)\n",
    "[2025-01-06 19:54:30,440][fairseq_cli.inference][INFO] - num. expert model params: 0 (num. trained: 0)\n",
    "[2025-01-06 19:54:30,441][fairseq_cli.inference][INFO] - {'_name': None,\n",
    " 'checkpoint': {'_name': None, 'save_dir': '<REDACTED>', 'restore_file': '<REDACTED>', 'finetune_from_model': None, 'reset_dataloader': False, 'reset_lr_scheduler': False, 'reset_meters': False, 'reset_optimizer': False, 'optimizer_overrides': '{}', 'save_interval': 5, 'save_interval_updates': 0, 'keep_interval_updates': -1, 'keep_interval_updates_pattern': -1, 'keep_last_epochs': 0, 'keep_best_checkpoints': -1, 'no_save': False, 'no_epoch_checkpoints': False, 'no_last_checkpoints': False, 'no_save_optimizer_state': False, 'best_checkpoint_metric': 'loss', 'maximize_best_checkpoint_metric': False, 'patience': -1, 'checkpoint_suffix': '', 'checkpoint_shard_count': 1, 'load_checkpoint_on_all_dp_ranks': False},\n",
    " 'common': {'_name': None, 'no_progress_bar': False, 'log_interval': 10, 'log_format': 'csv', 'log_file': None, 'wandb_project': None, 'wandb_entity': None, 'seed': 1, 'fp16': False, 'memory_efficient_fp16': False, 'fp16_no_flatten_grads': False, 'fp16_init_scale': 128, 'fp16_scale_window': None, 'fp16_scale_tolerance': 0.0, 'on_cpu_convert_precision': False, 'min_loss_scale': 0.0001, 'threshold_loss_scale': None, 'empty_cache_freq': 0, 'all_gather_list_size': 16384, 'model_parallel_size': 1, 'profile': False, 'reset_logging': False, 'suppress_crashes': False},\n",
    " 'common_eval': {'_name': None, 'path': None, 'quiet': False, 'model_overrides': '{}', 'save_outputs': False, 'results_path': None},\n",
    " 'criterion': {'_name': 'wav2vec2_with_cmsc', 'temp': 0.1, 'eps': 1e-08, 'all_gather': False, 'infonce': True, 'loss_weights': [0.1, 10.0], 'log_keys': ['prob_perplexity', 'code_perplexity', 'temp'], 'cmsc_weights': None},\n",
    " 'dataset': {'_name': None, 'num_workers': 10, 'skip_invalid_size_inputs_valid_test': False, 'max_tokens': None, 'batch_size': 171, 'required_batch_size_multiple': 8, 'data_buffer_size': 10, 'train_subset': 'train', 'valid_subset': 'valid', 'combine_valid_subsets': None, 'ignore_unused_valid_subsets': False, 'validate_interval': 10, 'validate_interval_updates': 0, 'validate_after_updates': 0, 'fixed_validation_seed': None, 'disable_validation': False, 'max_tokens_valid': None, 'batch_size_valid': 171, 'max_valid_steps': None, 'curriculum': 0, 'num_shards': 1, 'shard_id': 0},\n",
    " 'distributed_training': {'_name': None, 'distributed_world_size': 3, 'distributed_rank': 0, 'distributed_backend': 'nccl', 'distributed_init_method': 'tcp://localhost:11183', 'distributed_port': 12355, 'device_id': 0, 'ddp_comm_hook': 'none', 'bucket_cap_mb': 25, 'fix_batches_to_gpus': False, 'find_unused_parameters': False, 'heartbeat_timeout': -1, 'broadcast_buffers': False, 'fp16': False, 'memory_efficient_fp16': False},\n",
    " 'job_logging_cfg': {'version': 1, 'formatters': {'simple': {'format': '[%(asctime)s][%(name)s][%(levelname)s] - %(message)s'}}, 'handlers': {'console': {'class': 'logging.StreamHandler', 'formatter': 'simple', 'stream': 'ext://sys.stdout'}, 'file': {'class': 'logging.FileHandler', 'formatter': 'simple', 'filename': 'hydra_train.log'}}, 'root': {'level': 'INFO', 'handlers': ['console', 'file']}, 'disable_existing_loggers': False},\n",
    " 'lr_scheduler': {'_name': 'fixed', 'force_anneal': None, 'lr_shrink': 0.1, 'warmup_updates': 0, 'lr': [5e-05]},\n",
    " 'model': {'_name': 'wav2vec2_cmsc', 'all_gather': False, 'normalize': False, 'filter': False, 'data': '<REDACTED>', 'args': None, 'encoder_layers': 12, 'encoder_embed_dim': 768, 'encoder_ffn_embed_dim': 3072, 'encoder_attention_heads': 12, 'layer_norm_first': False, 'dropout': 0.1, 'attention_dropout': 0.1, 'activation_dropout': 0.0, 'encoder_layerdrop': 0.0, 'dropout_input': 0.1, 'dropout_features': 0.1, 'apply_mask': True, 'mask_length': 10, 'mask_prob': 0.65, 'mask_selection': 'static', 'mask_other': 0.0, 'no_mask_overlap': False, 'mask_min_space': 1, 'mask_channel_length': 10, 'mask_channel_prob': 0.0, 'mask_channel_selection': 'static', 'mask_channel_other': 0.0, 'no_mask_channel_overlap': False, 'mask_channel_min_space': 1, 'extractor_mode': 'default', 'conv_feature_layers': '[(256, 2, 2)] * 4', 'in_d': 12, 'conv_bias': False, 'feature_grad_mult': 0.1, 'conv_pos': 128, 'conv_pos_groups': 16, 'logit_temp': 0.1, 'quantize_targets': True, 'quantize_input': False, 'same_quantizer': False, 'target_glu': False, 'latent_vars': 320, 'latent_groups': 2, 'latent_dim': 0, 'final_dim': 256, 'num_negatives': 100, 'negatives_from_everywhere': False, 'cross_sample_negatives': 0, 'codebook_negatives': 0, 'latent_temp': [2.0, 0.5, 0.999995]},\n",
    " 'optimization': {'_name': None, 'max_epoch': 400, 'max_update': 0, 'lr': [5e-05], 'stop_time_hours': 0.0, 'clip_norm': 0.0, 'update_freq': [2], 'stop_min_lr': -1.0},\n",
    " 'optimizer': {'_name': 'adam', 'adam_betas': '(0.9, 0.98)', 'adam_eps': 1e-06, 'weight_decay': 0.01, 'use_old_adam': False, 'lr': [5e-05]},\n",
    " 'task': {'_name': 'ecg_pretraining', 'data': '/Users/victorli/Documents/GitHub/ECG-Time-Series/ECG_FM Classification/Calcium50893/manifest/cmsc', 'leads_to_load': None, 'leads_bucket': None, 'bucket_selection': 'uniform', 'sample_rate': None, 'filter': False, 'normalize': False, 'mean_path': None, 'std_path': None, 'enable_padding': True, 'enable_padding_leads': False, 'max_sample_size': None, 'min_sample_size': None, 'num_batch_buckets': 0, 'precompute_mask_indices': False, 'perturbation_mode': ['random_leads_masking'], 'p': [1.0], 'max_amplitude': 0.1, 'min_amplitude': 0.0, 'dependency': True, 'shift_ratio': 0.2, 'num_segment': 1, 'max_freq': 0.2, 'min_freq': 0.01, 'k': 3, 'mask_leads_selection': 'random', 'mask_leads_prob': 0.5, 'mask_leads_condition': [4, 5], 'inferred_w2v_config': None, 'inferred_3kg_config': None, 'criterion_name': 'wav2vec2_with_cmsc', 'model_name': None, 'clocs_mode': None}}\n",
    "[2025-01-06 19:54:30,486][fairseq_signals.data.ecg.cmsc_ecg_dataset][INFO] - loaded 10000, skipped 0 samples\n",
    "[2025-01-06 19:54:30,486][fairseq_cli.inference][INFO] - begin inference on test subset\n",
    "Traceback (most recent call last):\n",
    "  File \"/Users/victorli/Documents/GitHub/ECG-Time-Series/.venv/bin/fairseq-hydra-inference\", line 8, in <module>\n",
    "    sys.exit(cli_main())\n",
    "  File \"/Users/victorli/Documents/GitHub/ECG-Time-Series/fairseq-signals/fairseq_cli/hydra_inference.py\", line 53, in cli_main\n",
    "    hydra_main()\n",
    "  File \"/Users/victorli/Documents/GitHub/ECG-Time-Series/.venv/lib/python3.9/site-packages/hydra/main.py\", line 32, in decorated_main\n",
    "    _run_hydra(\n",
    "  File \"/Users/victorli/Documents/GitHub/ECG-Time-Series/.venv/lib/python3.9/site-packages/hydra/_internal/utils.py\", line 346, in _run_hydra\n",
    "    run_and_report(\n",
    "  File \"/Users/victorli/Documents/GitHub/ECG-Time-Series/.venv/lib/python3.9/site-packages/hydra/_internal/utils.py\", line 201, in run_and_report\n",
    "    raise ex\n",
    "  File \"/Users/victorli/Documents/GitHub/ECG-Time-Series/.venv/lib/python3.9/site-packages/hydra/_internal/utils.py\", line 198, in run_and_report\n",
    "    return func()\n",
    "  File \"/Users/victorli/Documents/GitHub/ECG-Time-Series/.venv/lib/python3.9/site-packages/hydra/_internal/utils.py\", line 347, in <lambda>\n",
    "    lambda: hydra.run(\n",
    "  File \"/Users/victorli/Documents/GitHub/ECG-Time-Series/.venv/lib/python3.9/site-packages/hydra/_internal/hydra.py\", line 107, in run\n",
    "    return run_job(\n",
    "  File \"/Users/victorli/Documents/GitHub/ECG-Time-Series/.venv/lib/python3.9/site-packages/hydra/core/utils.py\", line 129, in run_job\n",
    "    ret.return_value = task_function(task_cfg)\n",
    "  File \"/Users/victorli/Documents/GitHub/ECG-Time-Series/fairseq-signals/fairseq_cli/hydra_inference.py\", line 42, in hydra_main\n",
    "    distributed_utils.call_main(cfg, pre_main, **kwargs)\n",
    "  File \"/Users/victorli/Documents/GitHub/ECG-Time-Series/fairseq-signals/fairseq_signals/distributed/utils.py\", line 137, in call_main\n",
    "    main(cfg, **kwargs)\n",
    "  File \"/Users/victorli/Documents/GitHub/ECG-Time-Series/fairseq-signals/fairseq_cli/inference.py\", line 153, in main\n",
    "    net_output = model(**dummy[\"net_input\"])\n",
    "  File \"/Users/victorli/Documents/GitHub/ECG-Time-Series/.venv/lib/python3.9/site-packages/torch/nn/modules/module.py\", line 1736, in _wrapped_call_impl\n",
    "    return self._call_impl(*args, **kwargs)\n",
    "  File \"/Users/victorli/Documents/GitHub/ECG-Time-Series/.venv/lib/python3.9/site-packages/torch/nn/modules/module.py\", line 1747, in _call_impl\n",
    "    return forward_call(*args, **kwargs)\n",
    "  File \"/Users/victorli/Documents/GitHub/ECG-Time-Series/fairseq-signals/fairseq_signals/models/wav2vec2/wav2vec2_cmsc.py\", line 49, in forward\n",
    "    w2v_out = super().forward(return_features=True, **w2v_kwargs)\n",
    "  File \"/Users/victorli/Documents/GitHub/ECG-Time-Series/fairseq-signals/fairseq_signals/models/wav2vec2/wav2vec2.py\", line 255, in forward\n",
    "    features = self.feature_extractor(source)\n",
    "  File \"/Users/victorli/Documents/GitHub/ECG-Time-Series/.venv/lib/python3.9/site-packages/torch/nn/modules/module.py\", line 1736, in _wrapped_call_impl\n",
    "    return self._call_impl(*args, **kwargs)\n",
    "  File \"/Users/victorli/Documents/GitHub/ECG-Time-Series/.venv/lib/python3.9/site-packages/torch/nn/modules/module.py\", line 1747, in _call_impl\n",
    "    return forward_call(*args, **kwargs)\n",
    "  File \"/Users/victorli/Documents/GitHub/ECG-Time-Series/fairseq-signals/fairseq_signals/modules/conv_feature_extraction.py\", line 86, in forward\n",
    "    x = conv(x)\n",
    "  File \"/Users/victorli/Documents/GitHub/ECG-Time-Series/.venv/lib/python3.9/site-packages/torch/nn/modules/module.py\", line 1736, in _wrapped_call_impl\n",
    "    return self._call_impl(*args, **kwargs)\n",
    "  File \"/Users/victorli/Documents/GitHub/ECG-Time-Series/.venv/lib/python3.9/site-packages/torch/nn/modules/module.py\", line 1747, in _call_impl\n",
    "    return forward_call(*args, **kwargs)\n",
    "  File \"/Users/victorli/Documents/GitHub/ECG-Time-Series/.venv/lib/python3.9/site-packages/torch/nn/modules/container.py\", line 250, in forward\n",
    "    input = module(input)\n",
    "  File \"/Users/victorli/Documents/GitHub/ECG-Time-Series/.venv/lib/python3.9/site-packages/torch/nn/modules/module.py\", line 1736, in _wrapped_call_impl\n",
    "    return self._call_impl(*args, **kwargs)\n",
    "  File \"/Users/victorli/Documents/GitHub/ECG-Time-Series/.venv/lib/python3.9/site-packages/torch/nn/modules/module.py\", line 1747, in _call_impl\n",
    "    return forward_call(*args, **kwargs)\n",
    "  File \"/Users/victorli/Documents/GitHub/ECG-Time-Series/.venv/lib/python3.9/site-packages/torch/nn/modules/conv.py\", line 375, in forward\n",
    "    return self._conv_forward(input, self.weight, self.bias)\n",
    "  File \"/Users/victorli/Documents/GitHub/ECG-Time-Series/.venv/lib/python3.9/site-packages/torch/nn/modules/conv.py\", line 370, in _conv_forward\n",
    "    return F.conv1d(\n",
    "RuntimeError: Calculated padded input size per channel: (1). Kernel size: (2). Kernel size can't be greater than actual input size"
   ]
  }
 ],
 "metadata": {
  "kernelspec": {
   "display_name": ".venv",
   "language": "python",
   "name": "python3"
  },
  "language_info": {
   "codemirror_mode": {
    "name": "ipython",
    "version": 3
   },
   "file_extension": ".py",
   "mimetype": "text/x-python",
   "name": "python",
   "nbconvert_exporter": "python",
   "pygments_lexer": "ipython3",
   "version": "3.9.6"
  }
 },
 "nbformat": 4,
 "nbformat_minor": 2
}
