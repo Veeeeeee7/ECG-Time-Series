{
 "cells": [
  {
   "cell_type": "code",
   "execution_count": 89,
   "metadata": {},
   "outputs": [],
   "source": [
    "import wfdb\n",
    "import pandas as pd\n",
    "import numpy as np\n",
    "import os\n",
    "from sktime.classification.distance_based import KNeighborsTimeSeriesClassifier\n",
    "from sktime.dists_kernels.dtw import DtwDtaidistMultiv\n",
    "from sklearn.metrics import accuracy_score, roc_auc_score, f1_score"
   ]
  },
  {
   "cell_type": "code",
   "execution_count": 91,
   "metadata": {},
   "outputs": [],
   "source": [
    "data_abs_path = '/Users/victor/physionet.org/files/mimic-iv-ecg/1.0/files'\n",
    "\n",
    "split_csv = pd.read_csv('data/MIMIC-IV-ECG-Ext-Electrolytes/few_shot_splits/128shots/split1/Calcium50893.csv')\n",
    "\n",
    "split_csv = split_csv[split_csv['subject_id'] <= 12000000] # i haven't downloaded the full dataset yet\n",
    "\n",
    "classifiers = pd.read_csv('data/MIMIC-IV-ECG-Ext-Electrolytes/mimiciv_ECGv1.1_hospV2.2_Calcium50893.csv')\n",
    "\n",
    "train = []\n",
    "test = []\n",
    "val = []\n",
    "\n",
    "for index, row in split_csv.iterrows():\n",
    "    path = data_abs_path + '/p' + f\"{row['subject_id']}\"[:4] + '/p' + f\"{row['subject_id']}\"\n",
    "    samples = os.listdir(path)\n",
    "    \n",
    "    for sample in samples: # for each sample (subject) in the split, take all their studies\n",
    "        sample_path = os.path.join(path, sample)\n",
    "        if os.path.isdir(sample_path):\n",
    "            if int(sample[1:]) not in classifiers['study_id'].values:\n",
    "                continue\n",
    "            signal, fields = wfdb.rdsamp(sample_path + '/' + sample[1:])\n",
    "\n",
    "            if row['split'] == 'train':\n",
    "                train.append(signal)\n",
    "            elif row['split'] == 'test':\n",
    "                test.append(signal)\n",
    "            elif row['split'] == 'val':\n",
    "                val.append(signal)"
   ]
  },
  {
   "cell_type": "code",
   "execution_count": 92,
   "metadata": {},
   "outputs": [
    {
     "data": {
      "text/plain": [
       "(39, 12)"
      ]
     },
     "execution_count": 92,
     "metadata": {},
     "output_type": "execute_result"
    }
   ],
   "source": [
    "reshaped_train = np.empty((len(train), 12), dtype=object)\n",
    "\n",
    "for i in range(len(train)):\n",
    "    for j in range(12):\n",
    "        reshaped_train[i, j] = pd.Series(train[i][:][j]) # reshaping from (# of subjects, 5000, 12) to (# of subjects, 12) where each entry is a pd.series of length 5000\n",
    "\n",
    "X_train = pd.DataFrame(reshaped_train)\n",
    "X_train.shape"
   ]
  },
  {
   "cell_type": "code",
   "execution_count": 93,
   "metadata": {},
   "outputs": [
    {
     "name": "stderr",
     "output_type": "stream",
     "text": [
      "/var/folders/tg/0_5zffyd00d1lt_zc8nb0k300000gn/T/ipykernel_72248/2116052338.py:4: FutureWarning: Downcasting behavior in `replace` is deprecated and will be removed in a future version. To retain the old behavior, explicitly call `result.infer_objects(copy=False)`. To opt-in to the future behavior, set `pd.set_option('future.no_silent_downcasting', True)`\n",
      "  y_train = y_train.replace({'abnormal': 1, np.nan: 0}) # abnormal = 1, normal = 0\n"
     ]
    },
    {
     "data": {
      "text/plain": [
       "(39,)"
      ]
     },
     "execution_count": 93,
     "metadata": {},
     "output_type": "execute_result"
    }
   ],
   "source": [
    "subject_ids = split_csv['subject_id']\n",
    "filtered_classifiers = classifiers[classifiers['subject_id'].isin(split_csv[split_csv['split'] == 'train']['subject_id'])] # only take the classifier rows that are relevant by subject_id\n",
    "y_train = filtered_classifiers['flag']\n",
    "y_train = y_train.replace({'abnormal': 1, np.nan: 0}) # abnormal = 1, normal = 0\n",
    "y_train.shape"
   ]
  },
  {
   "cell_type": "code",
   "execution_count": 94,
   "metadata": {},
   "outputs": [
    {
     "data": {
      "text/plain": [
       "(3262, 12)"
      ]
     },
     "execution_count": 94,
     "metadata": {},
     "output_type": "execute_result"
    }
   ],
   "source": [
    "reshaped_test = np.empty((len(test), 12), dtype=object)\n",
    "for i in range(len(test)):\n",
    "    for j in range(12):\n",
    "        reshaped_test[i, j] = pd.Series(test[i][:][j])\n",
    "\n",
    "X_test = pd.DataFrame(reshaped_test)\n",
    "X_test = X_test.map(lambda x: x.fillna(0) if isinstance(x, pd.Series) else x) # there were NaNs in the data, which is odd, so I'm filling them with 0\n",
    "X_test.shape"
   ]
  },
  {
   "cell_type": "code",
   "execution_count": 95,
   "metadata": {},
   "outputs": [
    {
     "name": "stderr",
     "output_type": "stream",
     "text": [
      "/var/folders/tg/0_5zffyd00d1lt_zc8nb0k300000gn/T/ipykernel_72248/286851839.py:5: FutureWarning: Downcasting behavior in `replace` is deprecated and will be removed in a future version. To retain the old behavior, explicitly call `result.infer_objects(copy=False)`. To opt-in to the future behavior, set `pd.set_option('future.no_silent_downcasting', True)`\n",
      "  y_test = y_test.replace({'abnormal': 1, np.nan: 0})\n"
     ]
    },
    {
     "data": {
      "text/plain": [
       "(3262,)"
      ]
     },
     "execution_count": 95,
     "metadata": {},
     "output_type": "execute_result"
    }
   ],
   "source": [
    "subject_ids = split_csv['subject_id']\n",
    "filtered_classifiers = classifiers[classifiers['subject_id'].isin(split_csv[split_csv['split'] == 'test']['subject_id'])]\n",
    "filtered_classifiers = filtered_classifiers.drop_duplicates(subset=['study_id']) # there are duplicates in the calcium data for the same study_id, which is odd\n",
    "y_test = filtered_classifiers['flag']\n",
    "y_test = y_test.replace({'abnormal': 1, np.nan: 0})\n",
    "y_test.shape"
   ]
  },
  {
   "cell_type": "code",
   "execution_count": 96,
   "metadata": {},
   "outputs": [
    {
     "name": "stdout",
     "output_type": "stream",
     "text": [
      "Accuracy: 0.6778050275904353\n",
      "AUROC: 0.4994797763038107\n",
      "F1 Score: 0.19954303122619954\n"
     ]
    }
   ],
   "source": [
    "knn_classifier = KNeighborsTimeSeriesClassifier(distance=DtwDtaidistMultiv())\n",
    "knn_classifier.fit(X_train, y_train)\n",
    "y_pred = knn_classifier.predict(X_test)\n",
    "\n",
    "accuracy = accuracy_score(y_test, y_pred)\n",
    "\n",
    "auroc = roc_auc_score(y_test, y_pred)\n",
    "\n",
    "f1 = f1_score(y_test, y_pred)\n",
    "\n",
    "print(f\"Accuracy: {accuracy}\")\n",
    "print(f\"AUROC: {auroc}\")\n",
    "print(f\"F1 Score: {f1}\")"
   ]
  }
 ],
 "metadata": {
  "kernelspec": {
   "display_name": "venv",
   "language": "python",
   "name": "python3"
  },
  "language_info": {
   "codemirror_mode": {
    "name": "ipython",
    "version": 3
   },
   "file_extension": ".py",
   "mimetype": "text/x-python",
   "name": "python",
   "nbconvert_exporter": "python",
   "pygments_lexer": "ipython3",
   "version": "3.12.3"
  }
 },
 "nbformat": 4,
 "nbformat_minor": 2
}
