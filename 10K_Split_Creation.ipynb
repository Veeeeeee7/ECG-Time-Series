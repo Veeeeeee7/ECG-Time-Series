{
 "cells": [
  {
   "cell_type": "code",
   "execution_count": 2,
   "metadata": {},
   "outputs": [],
   "source": [
    "import pandas as pd"
   ]
  },
  {
   "cell_type": "code",
   "execution_count": 4,
   "metadata": {},
   "outputs": [],
   "source": [
    "path = \"/Volumes/SanDisk SSD/physionet.org/files/mimic-iv-ecg/1.0/MIMIC-IV-ECG-Ext-Electrolytes/\"\n",
    "df = pd.read_csv(path + \"mimiciv_ECGv1.1_hospV2.2_Calcium50893.csv\")\n",
    "df_10k_test_split = df.sample(n=10000)\n",
    "df_1k_val_split = df.drop(df_10k_test_split.index).sample(n=1000)\n",
    "df_10k_train_split = df.drop(df_10k_test_split.index).drop(df_1k_val_split.index).sample(n=10000)\n",
    "\n",
    "df_10k_split = df[['subject_id', 'study_id', 'labevent_id']]\n",
    "df_10k_split = df_10k_split[df_10k_split['study_id'].isin(df_10k_test_split['study_id']) | \n",
    "                            df_10k_split['study_id'].isin(df_1k_val_split['study_id']) | \n",
    "                            df_10k_split['study_id'].isin(df_10k_train_split['study_id'])]\n",
    "\n",
    "df_10k_split.loc[df_10k_split['study_id'].isin(df_10k_test_split['study_id']), 'split'] = 'test'\n",
    "df_10k_split.loc[df_10k_split['study_id'].isin(df_1k_val_split['study_id']), 'split'] = 'val'\n",
    "df_10k_split.loc[~df_10k_split['study_id'].isin(df_10k_test_split['study_id']) & \n",
    "                 ~df_10k_split['study_id'].isin(df_1k_val_split['study_id']), 'split'] = 'train'\n",
    "\n",
    "df_10k_split.to_csv(path + \"few_shot_splits/10Kshots/split1/Calcium50893.csv\")"
   ]
  },
  {
   "cell_type": "code",
   "execution_count": 8,
   "metadata": {},
   "outputs": [],
   "source": [
    "path = \"/Volumes/SanDisk SSD/physionet.org/files/mimic-iv-ecg/1.0/MIMIC-IV-ECG-Ext-Electrolytes/\"\n",
    "df = pd.read_csv(path + \"mimiciv_ECGv1.1_hospV2.2_Creatinine50912.csv\")\n",
    "df_10k_test_split = df.sample(n=10000)\n",
    "df_1k_val_split = df.drop(df_10k_test_split.index).sample(n=1000)\n",
    "df_10k_train_split = df.drop(df_10k_test_split.index).drop(df_1k_val_split.index).sample(n=10000)\n",
    "\n",
    "df_10k_split = df[['subject_id', 'study_id', 'labevent_id']]\n",
    "df_10k_split = df_10k_split[df_10k_split['study_id'].isin(df_10k_test_split['study_id']) | \n",
    "                            df_10k_split['study_id'].isin(df_1k_val_split['study_id']) | \n",
    "                            df_10k_split['study_id'].isin(df_10k_train_split['study_id'])]\n",
    "\n",
    "df_10k_split.loc[df_10k_split['study_id'].isin(df_10k_test_split['study_id']), 'split'] = 'test'\n",
    "df_10k_split.loc[df_10k_split['study_id'].isin(df_1k_val_split['study_id']), 'split'] = 'val'\n",
    "df_10k_split.loc[~df_10k_split['study_id'].isin(df_10k_test_split['study_id']) & \n",
    "                 ~df_10k_split['study_id'].isin(df_1k_val_split['study_id']), 'split'] = 'train'\n",
    "\n",
    "df_10k_split.to_csv(path + \"few_shot_splits/10Kshots/split1/Creatinine50912.csv\")"
   ]
  },
  {
   "cell_type": "code",
   "execution_count": 15,
   "metadata": {},
   "outputs": [],
   "source": [
    "path = \"/Volumes/SanDisk SSD/physionet.org/files/mimic-iv-ecg/1.0/MIMIC-IV-ECG-Ext-Electrolytes/\"\n",
    "df = pd.read_csv(path + \"mimiciv_ECGv1.1_hospV2.2_Magnesium50960.csv\")\n",
    "df_10k_test_split = df.sample(n=10000)\n",
    "df_1k_val_split = df.drop(df_10k_test_split.index).sample(n=1000)\n",
    "df_10k_train_split = df.drop(df_10k_test_split.index).drop(df_1k_val_split.index).sample(n=10000)\n",
    "\n",
    "df_10k_split = df[['subject_id', 'study_id', 'labevent_id']]\n",
    "df_10k_split = df_10k_split[df_10k_split['study_id'].isin(df_10k_test_split['study_id']) | \n",
    "                            df_10k_split['study_id'].isin(df_1k_val_split['study_id']) | \n",
    "                            df_10k_split['study_id'].isin(df_10k_train_split['study_id'])]\n",
    "\n",
    "df_10k_split.loc[df_10k_split['study_id'].isin(df_10k_test_split['study_id']), 'split'] = 'test'\n",
    "df_10k_split.loc[df_10k_split['study_id'].isin(df_1k_val_split['study_id']), 'split'] = 'val'\n",
    "df_10k_split.loc[~df_10k_split['study_id'].isin(df_10k_test_split['study_id']) & \n",
    "                 ~df_10k_split['study_id'].isin(df_1k_val_split['study_id']), 'split'] = 'train'\n",
    "\n",
    "df_10k_split.to_csv(path + \"few_shot_splits/10Kshots/split1/Magnesium50960.csv\")"
   ]
  },
  {
   "cell_type": "code",
   "execution_count": 14,
   "metadata": {},
   "outputs": [],
   "source": [
    "path = \"/Volumes/SanDisk SSD/physionet.org/files/mimic-iv-ecg/1.0/MIMIC-IV-ECG-Ext-Electrolytes/\"\n",
    "df = pd.read_csv(path + \"mimiciv_ECGv1.1_hospV2.2_Potassium50971.csv\")\n",
    "df_10k_test_split = df.sample(n=10000)\n",
    "df_1k_val_split = df.drop(df_10k_test_split.index).sample(n=1000)\n",
    "df_10k_train_split = df.drop(df_10k_test_split.index).drop(df_1k_val_split.index).sample(n=10000)\n",
    "\n",
    "df_10k_split = df[['subject_id', 'study_id', 'labevent_id']]\n",
    "df_10k_split = df_10k_split[df_10k_split['study_id'].isin(df_10k_test_split['study_id']) | \n",
    "                            df_10k_split['study_id'].isin(df_1k_val_split['study_id']) | \n",
    "                            df_10k_split['study_id'].isin(df_10k_train_split['study_id'])]\n",
    "\n",
    "df_10k_split.loc[df_10k_split['study_id'].isin(df_10k_test_split['study_id']), 'split'] = 'test'\n",
    "df_10k_split.loc[df_10k_split['study_id'].isin(df_1k_val_split['study_id']), 'split'] = 'val'\n",
    "df_10k_split.loc[~df_10k_split['study_id'].isin(df_10k_test_split['study_id']) & \n",
    "                 ~df_10k_split['study_id'].isin(df_1k_val_split['study_id']), 'split'] = 'train'\n",
    "\n",
    "df_10k_split.to_csv(path + \"few_shot_splits/10Kshots/split1/Potassium50971.csv\")"
   ]
  },
  {
   "cell_type": "code",
   "execution_count": 13,
   "metadata": {},
   "outputs": [],
   "source": [
    "path = \"/Volumes/SanDisk SSD/physionet.org/files/mimic-iv-ecg/1.0/MIMIC-IV-ECG-Ext-Electrolytes/\"\n",
    "df = pd.read_csv(path + \"mimiciv_ECGv1.1_hospV2.2_Sodium50983.csv\")\n",
    "df_10k_test_split = df.sample(n=10000)\n",
    "df_1k_val_split = df.drop(df_10k_test_split.index).sample(n=1000)\n",
    "df_10k_train_split = df.drop(df_10k_test_split.index).drop(df_1k_val_split.index).sample(n=10000)\n",
    "\n",
    "df_10k_split = df[['subject_id', 'study_id', 'labevent_id']]\n",
    "df_10k_split = df_10k_split[df_10k_split['study_id'].isin(df_10k_test_split['study_id']) | \n",
    "                            df_10k_split['study_id'].isin(df_1k_val_split['study_id']) | \n",
    "                            df_10k_split['study_id'].isin(df_10k_train_split['study_id'])]\n",
    "\n",
    "df_10k_split.loc[df_10k_split['study_id'].isin(df_10k_test_split['study_id']), 'split'] = 'test'\n",
    "df_10k_split.loc[df_10k_split['study_id'].isin(df_1k_val_split['study_id']), 'split'] = 'val'\n",
    "df_10k_split.loc[~df_10k_split['study_id'].isin(df_10k_test_split['study_id']) & \n",
    "                 ~df_10k_split['study_id'].isin(df_1k_val_split['study_id']), 'split'] = 'train'\n",
    "\n",
    "df_10k_split.to_csv(path + \"few_shot_splits/10Kshots/split1/Sodium50983.csv\")"
   ]
  }
 ],
 "metadata": {
  "kernelspec": {
   "display_name": ".venv",
   "language": "python",
   "name": "python3"
  },
  "language_info": {
   "codemirror_mode": {
    "name": "ipython",
    "version": 3
   },
   "file_extension": ".py",
   "mimetype": "text/x-python",
   "name": "python",
   "nbconvert_exporter": "python",
   "pygments_lexer": "ipython3",
   "version": "3.12.7"
  }
 },
 "nbformat": 4,
 "nbformat_minor": 2
}
